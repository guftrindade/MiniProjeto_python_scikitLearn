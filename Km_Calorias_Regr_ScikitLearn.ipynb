{
  "nbformat": 4,
  "nbformat_minor": 0,
  "metadata": {
    "colab": {
      "name": "Km/Calorias_Regr_ScikitLearn.ipynb",
      "provenance": [],
      "collapsed_sections": [],
      "authorship_tag": "ABX9TyNdnHYSFrAtuJDjcBO9PVNw",
      "include_colab_link": true
    },
    "kernelspec": {
      "name": "python3",
      "display_name": "Python 3"
    },
    "language_info": {
      "name": "python"
    }
  },
  "cells": [
    {
      "cell_type": "markdown",
      "metadata": {
        "id": "view-in-github",
        "colab_type": "text"
      },
      "source": [
        "<a href=\"https://colab.research.google.com/github/guftrindade/Python_ScikitLearn/blob/main/Km_Calorias_Regr_ScikitLearn.ipynb\" target=\"_parent\"><img src=\"https://colab.research.google.com/assets/colab-badge.svg\" alt=\"Open In Colab\"/></a>"
      ]
    },
    {
      "cell_type": "markdown",
      "metadata": {
        "id": "Ptyt-w7CD1_U"
      },
      "source": [
        "# Projeto simples de regressão linear simples com ScikitLearn"
      ]
    },
    {
      "cell_type": "code",
      "metadata": {
        "id": "aFXd--U0EHcV"
      },
      "source": [
        "#Importando as bibliotecas\n",
        "import pandas as pd\n",
        "import matplotlib.pyplot as plt\n",
        "import numpy as np\n",
        "from matplotlib import pyplot\n",
        "import sklearn "
      ],
      "execution_count": 34,
      "outputs": []
    },
    {
      "cell_type": "code",
      "metadata": {
        "id": "FiqsZaGGf-pv"
      },
      "source": [
        "#Iremos colocar X como KM Percorrido e Y como Calorias Queimadas\n",
        "X = np.array([8,10,12,16,20,30,35,45,60,80]).reshape((-1,1))\n",
        "Y = np.array([90, 112, 148, 189, 212, 318, 380, 420, 550, 650])"
      ],
      "execution_count": 41,
      "outputs": []
    },
    {
      "cell_type": "code",
      "metadata": {
        "colab": {
          "base_uri": "https://localhost:8080/",
          "height": 294
        },
        "id": "IyuxXKpVGvwa",
        "outputId": "a098cb74-9113-4008-c25c-22279ec08e64"
      },
      "source": [
        "#Vamos agora analisar este conjunto de dados\n",
        "plt.figure()\n",
        "plt.title('Quantidade de KM percorridos por calorias queimadas')\n",
        "plt.xlabel('KM percorridos')\n",
        "plt.ylabel('Calorias queimadas')\n",
        "plt.plot(X, Y, 'k')\n",
        "plt.grid(True)\n",
        "plt.show()"
      ],
      "execution_count": 42,
      "outputs": [
        {
          "output_type": "display_data",
          "data": {
            "image/png": "[encoded data removed]",
            "text/plain": [
              "<Figure size 432x288 with 1 Axes>"
            ]
          },
          "metadata": {
            "tags": [],
            "needs_background": "light"
          }
        }
      ]
    },
    {
      "cell_type": "code",
      "metadata": {
        "colab": {
          "base_uri": "https://localhost:8080/",
          "height": 281
        },
        "id": "C4sA8qeJIUOT",
        "outputId": "91923a0a-5053-4a64-c67b-05f19b0ac88f"
      },
      "source": [
        "#Gráfico de disperção\n",
        "pyplot.scatter(X,Y)\n",
        "pyplot.title('Gráfico de Dispersão entre KM Percorrido e Calorias Queimadas')\n",
        "plt.grid(True)\n",
        "pyplot.show()"
      ],
      "execution_count": 43,
      "outputs": [
        {
          "output_type": "display_data",
          "data": {
            "image/png": "[encoded data removed]",
            "text/plain": [
              "<Figure size 432x288 with 1 Axes>"
            ]
          },
          "metadata": {
            "tags": [],
            "needs_background": "light"
          }
        }
      ]
    },
    {
      "cell_type": "code",
      "metadata": {
        "id": "PocjRpVbJiRb"
      },
      "source": [
        "#Agora iremos treinar os nossos dados para estimar os valores com a regressão linear\n",
        "#Importando o pacote de Regressão Linear\n",
        "from sklearn.linear_model import LinearRegression"
      ],
      "execution_count": 44,
      "outputs": []
    },
    {
      "cell_type": "code",
      "metadata": {
        "id": "oncB8ATkKmSf"
      },
      "source": [
        "#Criando o modelo de regressão linear\n",
        "modelo = LinearRegression()"
      ],
      "execution_count": 45,
      "outputs": []
    },
    {
      "cell_type": "code",
      "metadata": {
        "colab": {
          "base_uri": "https://localhost:8080/"
        },
        "id": "Op4ENJEeLUY5",
        "outputId": "9104d988-2c85-4978-854e-00062a5781d3"
      },
      "source": [
        "#Realizando o treinamento dos modelos com o método fit()\n",
        "modelo.fit(X,Y)"
      ],
      "execution_count": 46,
      "outputs": [
        {
          "output_type": "execute_result",
          "data": {
            "text/plain": [
              "LinearRegression(copy_X=True, fit_intercept=True, n_jobs=None, normalize=False)"
            ]
          },
          "metadata": {
            "tags": []
          },
          "execution_count": 46
        }
      ]
    },
    {
      "cell_type": "markdown",
      "metadata": {
        "id": "gy2JN7xtdkC1"
      },
      "source": [
        "### Avaliação do modelo"
      ]
    },
    {
      "cell_type": "code",
      "metadata": {
        "colab": {
          "base_uri": "https://localhost:8080/"
        },
        "id": "XoRAeGGbLlRO",
        "outputId": "611fdffa-5c2c-464a-d9d6-7972d512826a"
      },
      "source": [
        "#Avaliando o modelo\n",
        "print('Coeficiente de determinação: ', modelo.score(X,Y))"
      ],
      "execution_count": 47,
      "outputs": [
        {
          "output_type": "stream",
          "text": [
            "Coeficiente de determinação:  0.981065044511881\n"
          ],
          "name": "stdout"
        }
      ]
    },
    {
      "cell_type": "code",
      "metadata": {
        "colab": {
          "base_uri": "https://localhost:8080/"
        },
        "id": "UnaWQ7r5c4DH",
        "outputId": "ca5c3967-8af6-431f-cdfd-e0c46592b62d"
      },
      "source": [
        "#Intercept - mostra o ponto onde a regressão estimada cruza o eixo y quando x=0\n",
        "print('Intercept: ', modelo.intercept_)"
      ],
      "execution_count": 48,
      "outputs": [
        {
          "output_type": "stream",
          "text": [
            "Intercept:  56.48830044458316\n"
          ],
          "name": "stdout"
        }
      ]
    },
    {
      "cell_type": "code",
      "metadata": {
        "colab": {
          "base_uri": "https://localhost:8080/"
        },
        "id": "Lj4y-5IXdY8W",
        "outputId": "227e8699-e95d-4fd2-fe2d-0e9d1dfe49ae"
      },
      "source": [
        "#Slope - representa o quanto vai aumentar (ou diminuir) a resposta da predição quando  xi  aumentar 1\n",
        "print('Slope: ', modelo.coef_)"
      ],
      "execution_count": 49,
      "outputs": [
        {
          "output_type": "stream",
          "text": [
            "Slope:  [7.92442087]\n"
          ],
          "name": "stdout"
        }
      ]
    },
    {
      "cell_type": "markdown",
      "metadata": {
        "id": "p0Mo-hGtdyI4"
      },
      "source": [
        "# Resultado"
      ]
    },
    {
      "cell_type": "code",
      "metadata": {
        "id": "BQiskimJfEzx"
      },
      "source": [
        "#Criando um novo array para testar o modelo e plotar um novo gráfico\n",
        "X2 = np.array([20,5,60,75,84,102,13,49,65,91]).reshape((-1,1))"
      ],
      "execution_count": 54,
      "outputs": []
    },
    {
      "cell_type": "code",
      "metadata": {
        "id": "jF8-rvLOeimQ"
      },
      "source": [
        "Y2 = modelo.predict(X2)"
      ],
      "execution_count": 55,
      "outputs": []
    },
    {
      "cell_type": "code",
      "metadata": {
        "colab": {
          "base_uri": "https://localhost:8080/",
          "height": 294
        },
        "id": "K6Gl9_1qiKKT",
        "outputId": "679357ff-2fd6-451d-ac79-f14c030f9a4b"
      },
      "source": [
        "#Avaliando com o gráfico de linha os novos dados inseridos em X2 (KM percorridos)\n",
        "plt.figure()\n",
        "plt.title('Quantidade de KM percorridos por calorias estimadas')\n",
        "plt.xlabel('KM percorridos')\n",
        "plt.ylabel('Calorias estimadas')\n",
        "plt.plot(X2, Y2, 'k')\n",
        "plt.grid(True)\n",
        "plt.show()"
      ],
      "execution_count": 56,
      "outputs": [
        {
          "output_type": "display_data",
          "data": {
            "image/png": "[encoded data removed]",
            "text/plain": [
              "<Figure size 432x288 with 1 Axes>"
            ]
          },
          "metadata": {
            "tags": [],
            "needs_background": "light"
          }
        }
      ]
    },
    {
      "cell_type": "code",
      "metadata": {
        "id": "UX2ZXGxSixtS"
      },
      "source": [
        "#Resultado apenas para um dado específico\n",
        "previsaoY2 = modelo.intercept_ + modelo.coef_ * 34"
      ],
      "execution_count": 62,
      "outputs": []
    },
    {
      "cell_type": "code",
      "metadata": {
        "colab": {
          "base_uri": "https://localhost:8080/"
        },
        "id": "c383eruhik95",
        "outputId": "f99d6ad8-3b56-4a9d-ae82-cfe0d059f3d6"
      },
      "source": [
        "print('Se corremos 55km, podemos queimar aproximadamente: ', previsaoY2)"
      ],
      "execution_count": 63,
      "outputs": [
        {
          "output_type": "stream",
          "text": [
            "Se corremos 55km, podemos queimar aproximadamente:  [325.91861009]\n"
          ],
          "name": "stdout"
        }
      ]
    },
    {
      "cell_type": "markdown",
      "metadata": {
        "id": "ZKZSRUmukDrn"
      },
      "source": [
        "# Verificando quantas calorias eliminei hoje"
      ]
    },
    {
      "cell_type": "code",
      "metadata": {
        "colab": {
          "base_uri": "https://localhost:8080/"
        },
        "id": "f_U-0ZR9kOsu",
        "outputId": "d1875920-e700-495f-d417-ac1900a6cb3c"
      },
      "source": [
        "km_percorrido = int(input('Informe quantos KM percorreu no dia de hoje: '))"
      ],
      "execution_count": 80,
      "outputs": [
        {
          "output_type": "stream",
          "text": [
            "Informe quantos KM percorreu no dia de hoje: 25\n"
          ],
          "name": "stdout"
        }
      ]
    },
    {
      "cell_type": "code",
      "metadata": {
        "colab": {
          "base_uri": "https://localhost:8080/"
        },
        "id": "aTVGQVnGkYSM",
        "outputId": "fd82f671-b119-4ce0-ac5d-05d030034d56"
      },
      "source": [
        "previsao = modelo.intercept_ + modelo.coef_ * km_percorrido\n",
        "print('Você percorreu em KM: ', km_percorrido)\n",
        "print('Eliminou aproxamadamente em calorias: ', int(previsao))"
      ],
      "execution_count": 81,
      "outputs": [
        {
          "output_type": "stream",
          "text": [
            "Você percorreu em KM:  25\n",
            "Eliminou aproxamadamente em calorias:  254\n"
          ],
          "name": "stdout"
        }
      ]
    }
  ]
}